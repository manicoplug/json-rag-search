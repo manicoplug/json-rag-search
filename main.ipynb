{
 "cells": [
  {
   "cell_type": "code",
   "execution_count": null,
   "metadata": {},
   "outputs": [],
   "source": [
    "!pip install -q llama-index\n",
    "!pip install llama-index-llms-gemini\n",
    "!pip install jsonpath-ng\n",
    "!pip install llama-index"
   ]
  },
  {
   "cell_type": "code",
   "execution_count": null,
   "metadata": {},
   "outputs": [],
   "source": [
    "import google.generativeai as genai\n",
    "from IPython.display import Markdown, display\n",
    "from llama_index.core.indices.struct_store import JSONQueryEngine\n",
    "from llama_index.llms.gemini import Gemini"
   ]
  },
  {
   "cell_type": "code",
   "execution_count": 90,
   "metadata": {},
   "outputs": [],
   "source": [
    "from dotenv import load_dotenv\n",
    "import os\n",
    "load_dotenv()\n",
    "os.environ['GOOGLE_API_KEY'] = os.getenv(\"GOOGLE_API_KEY\")\n",
    "genai.configure(api_key=os.environ['GOOGLE_API_KEY'])"
   ]
  },
  {
   "cell_type": "code",
   "execution_count": 80,
   "metadata": {},
   "outputs": [],
   "source": [
    "import json\n",
    "# Construct the paths to the JSON and schema files\n",
    "json_filepath ='data/sample.json'\n",
    "schema_filepath = 'data/sample_schema.json'"
   ]
  },
  {
   "cell_type": "code",
   "execution_count": 76,
   "metadata": {},
   "outputs": [],
   "source": [
    "# Read the JSON file\n",
    "with open(json_filepath, 'r') as json_file:\n",
    "    json_value = json.load(json_file)\n",
    "\n",
    "# Read the schema file\n",
    "with open(schema_filepath, 'r') as schema_file:\n",
    "    json_schema = json.load(schema_file)"
   ]
  },
  {
   "cell_type": "code",
   "execution_count": 91,
   "metadata": {},
   "outputs": [],
   "source": [
    "\n",
    "from llama_index.llms.google_genai import GoogleGenAI\n",
    "from llama_index.core.settings import Settings\n",
    "llm = GoogleGenAI(\n",
    "    model=\"gemini-2.0-flash\",\n",
    "    api_key=os.getenv('GOOGLE_API_KEY')\n",
    ")\n",
    "# Create ServiceContext\n",
    "Settings.llm = llm\n",
    "# Create JSON Query Engine\n",
    "nl_query_engine = JSONQueryEngine(\n",
    "    json_value=json_value,\n",
    "    json_schema=json_schema,\n",
    ")"
   ]
  },
  {
   "cell_type": "code",
   "execution_count": 92,
   "metadata": {},
   "outputs": [
    {
     "data": {
      "text/markdown": [
       "Generated Response: John Doe's department is Sales.\n"
      ],
      "text/plain": [
       "<IPython.core.display.Markdown object>"
      ]
     },
     "metadata": {},
     "output_type": "display_data"
    }
   ],
   "source": [
    "nl_response = nl_query_engine.query(\n",
    "    \"What is the department of John Doe?\",\n",
    ")\n",
    "display(Markdown(f\"Generated Response: {nl_response}\"))"
   ]
  },
  {
   "cell_type": "code",
   "execution_count": 93,
   "metadata": {},
   "outputs": [
    {
     "data": {
      "text/markdown": [
       "Generated Response: John Doe has taken 2 leaves.\n"
      ],
      "text/plain": [
       "<IPython.core.display.Markdown object>"
      ]
     },
     "metadata": {},
     "output_type": "display_data"
    }
   ],
   "source": [
    "nl_response = nl_query_engine.query(\n",
    "    \"How many leaves has John Doe taken?\",\n",
    ")\n",
    "display(Markdown(f\"Generated Response: {nl_response}\"))\n"
   ]
  },
  {
   "cell_type": "code",
   "execution_count": 94,
   "metadata": {},
   "outputs": [
    {
     "data": {
      "text/markdown": [
       "Generated Response: Jane Smith has taken the following leaves: leave ID L003 from 2023-02-05 to 2023-02-07 (Annual Leave, Personal reason), and leave ID L004 from 2023-04-15 to 2023-04-20 (Maternity Leave, Childbirth).\n"
      ],
      "text/plain": [
       "<IPython.core.display.Markdown object>"
      ]
     },
     "metadata": {},
     "output_type": "display_data"
    }
   ],
   "source": [
    "nl_response = nl_query_engine.query(\n",
    "    \"Provide details of all leaves taken by Jane Smith.\",\n",
    ")\n",
    "display(Markdown(f\"Generated Response: {nl_response}\"))\n"
   ]
  },
  {
   "cell_type": "code",
   "execution_count": 95,
   "metadata": {},
   "outputs": [
    {
     "data": {
      "text/markdown": [
       "Generated Response: I am unable to answer the query.\n"
      ],
      "text/plain": [
       "<IPython.core.display.Markdown object>"
      ]
     },
     "metadata": {},
     "output_type": "display_data"
    }
   ],
   "source": [
    "nl_response = nl_query_engine.query(\n",
    "    \"Which employees have taken annual leave?\",\n",
    ")\n",
    "display(Markdown(f\"Generated Response: {nl_response}\"))\n"
   ]
  },
  {
   "cell_type": "code",
   "execution_count": 96,
   "metadata": {},
   "outputs": [
    {
     "data": {
      "text/markdown": [
       "Generated Response: John Doe's annual leave start date is not available in the provided data.\n"
      ],
      "text/plain": [
       "<IPython.core.display.Markdown object>"
      ]
     },
     "metadata": {},
     "output_type": "display_data"
    }
   ],
   "source": [
    "nl_response = nl_query_engine.query(\n",
    "    \"When did John Doe take his annual leave?\",\n",
    ")\n",
    "display(Markdown(f\"Generated Response: {nl_response}\"))\n"
   ]
  },
  {
   "cell_type": "code",
   "execution_count": 97,
   "metadata": {},
   "outputs": [
    {
     "data": {
      "text/markdown": [
       "Generated Response:The leave IDs for John Doe are L001 and L002.\n"
      ],
      "text/plain": [
       "<IPython.core.display.Markdown object>"
      ]
     },
     "metadata": {},
     "output_type": "display_data"
    }
   ],
   "source": [
    "nl_response = nl_query_engine.query(\n",
    "    \"List all leave IDs for John Doe.\",\n",
    ")\n",
    "display(Markdown(f\"Generated Response:{nl_response}\"))\n"
   ]
  },
  {
   "cell_type": "code",
   "execution_count": 98,
   "metadata": {},
   "outputs": [
    {
     "data": {
      "text/markdown": [
       "Generated Response: I am unable to answer the query about the total number of employees, as the provided JSON path does not lead to the number of employees.\n"
      ],
      "text/plain": [
       "<IPython.core.display.Markdown object>"
      ]
     },
     "metadata": {},
     "output_type": "display_data"
    }
   ],
   "source": [
    "nl_response = nl_query_engine.query(\n",
    "    \"What is the total number of employees in given json?\",\n",
    ")\n",
    "display(Markdown(f\"Generated Response: {nl_response}\"))\n"
   ]
  },
  {
   "cell_type": "code",
   "execution_count": null,
   "metadata": {},
   "outputs": [],
   "source": []
  }
 ],
 "metadata": {
  "kernelspec": {
   "display_name": ".venv",
   "language": "python",
   "name": "python3"
  },
  "language_info": {
   "codemirror_mode": {
    "name": "ipython",
    "version": 3
   },
   "file_extension": ".py",
   "mimetype": "text/x-python",
   "name": "python",
   "nbconvert_exporter": "python",
   "pygments_lexer": "ipython3",
   "version": "3.11.9"
  }
 },
 "nbformat": 4,
 "nbformat_minor": 2
}
